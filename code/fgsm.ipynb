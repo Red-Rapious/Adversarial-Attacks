{
 "cells": [
  {
   "cell_type": "markdown",
   "metadata": {},
   "source": [
    "# Implementation of the Fast Gradient Sign Method (FGSM)"
   ]
  },
  {
   "cell_type": "markdown",
   "metadata": {},
   "source": [
    "## 1. Loading the model and images to attack\n",
    "We will use the model `VGG16`, trained on the `ImageNet` dataset, to conduct our experiments."
   ]
  },
  {
   "cell_type": "code",
   "execution_count": null,
   "metadata": {},
   "outputs": [],
   "source": []
  },
  {
   "cell_type": "markdown",
   "metadata": {},
   "source": [
    "## 2. Implementation of FGSM for confidence reduction\n",
    "We implement the simplest case of FGSM, using the following equation:\n",
    "$$X_* = X + \\varepsilon\\text{ sign}\\left(\\nabla_x J(X, y_{\\text{true}})\\right)$$"
   ]
  },
  {
   "cell_type": "code",
   "execution_count": null,
   "metadata": {},
   "outputs": [],
   "source": []
  },
  {
   "cell_type": "markdown",
   "metadata": {},
   "source": [
    "## 3. Variation of FGSM for source/target misclassification\n",
    "We modify FGSM to specifically choose the target class, i.e. the class that we want our crafted image to be classified as:\n",
    "$$X_* = X - \\varepsilon\\text{ sign}\\left(\\nabla_x J(X, y_{\\text{target}})\\right)$$"
   ]
  },
  {
   "cell_type": "code",
   "execution_count": null,
   "metadata": {},
   "outputs": [],
   "source": []
  },
  {
   "cell_type": "markdown",
   "metadata": {},
   "source": [
    "## 4. Iterating FGSM\n",
    "Finally, we iterate FGSM over multiple steps of gradient evaluation, and compare the results to the single-step setup:\n",
    "$$\\begin{cases}\n",
    "        X_*^0 \\quad= X\\\\\n",
    "        X^{n+1}_* = \\text{Clip}\\left(X^n_*+\\alpha\\text{ sign}\\left(\\nabla_x J(X, y_{\\text{true}})\\right)\\right)\n",
    "\\end{cases}$$"
   ]
  },
  {
   "cell_type": "code",
   "execution_count": null,
   "metadata": {},
   "outputs": [],
   "source": []
  }
 ],
 "metadata": {
  "kernelspec": {
   "display_name": "Python 3",
   "language": "python",
   "name": "python3"
  },
  "language_info": {
   "name": "python",
   "version": "3.11.10"
  }
 },
 "nbformat": 4,
 "nbformat_minor": 2
}
